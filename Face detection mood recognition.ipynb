{
 "cells": [
  {
   "cell_type": "markdown",
   "metadata": {},
   "source": [
    "## Mood Recognition with HaarCascade"
   ]
  },
  {
   "cell_type": "code",
   "execution_count": 5,
   "metadata": {},
   "outputs": [
    {
     "name": "stdout",
     "output_type": "stream",
     "text": [
      "No emotion detected.\n"
     ]
    }
   ],
   "source": [
    "import cv2\n",
    "import numpy as np\n",
    "import tensorflow as tf\n",
    "from tensorflow.keras.models import load_model\n",
    "\n",
    "# Define the emotion dictionary\n",
    "emotion_dict = {0: 'Angry', 1: 'Calm', 2: 'Happy'}  # Update with your actual emotions\n",
    "\n",
    "def emotion_recog(frame, model, face_cascade_path='haarcascade_frontalface_default.xml'):\n",
    "    # Prevents openCL usage and unnecessary logging messages\n",
    "    cv2.ocl.setUseOpenCL(False)\n",
    "\n",
    "    # Load the Haar Cascade for face detection\n",
    "    facecasc = cv2.CascadeClassifier(cv2.data.haarcascades + face_cascade_path)\n",
    "\n",
    "    # Convert frame to grayscale\n",
    "    gray = cv2.cvtColor(frame, cv2.COLOR_BGR2GRAY)\n",
    "\n",
    "    # Detect faces in the frame\n",
    "    faces = facecasc.detectMultiScale(gray, scaleFactor=1.3, minNeighbors=5)\n",
    "\n",
    "    detected_emotion = None\n",
    "    for (x, y, w, h) in faces:\n",
    "        # Draw rectangle around the face\n",
    "        cv2.rectangle(frame, (x, y-50), (x+w, y+h+10), (255, 0, 255), 3)\n",
    "        \n",
    "        # Extract the region of interest (ROI) for emotion detection\n",
    "        roi_gray = gray[y:y + h, x:x + w]\n",
    "        cropped_img = np.expand_dims(np.expand_dims(cv2.resize(roi_gray, (48, 48)), -1), 0)\n",
    "        \n",
    "        # Make prediction on the ROI\n",
    "        prediction = model.predict(cropped_img)\n",
    "        maxindex = int(np.argmax(prediction))\n",
    "        \n",
    "        # Annotate the frame with the predicted emotion\n",
    "        detected_emotion = emotion_dict[maxindex]\n",
    "        cv2.putText(frame, detected_emotion, (x+20, y-60), cv2.FONT_HERSHEY_SIMPLEX, 1, (255, 255, 255), 2, cv2.LINE_AA)\n",
    "\n",
    "    return frame, detected_emotion\n",
    "\n",
    "# Path to your model file\n",
    "# Load the model\n",
    "model = load_model(\"emotion_model_modified.h5\")\n",
    "\n",
    "# Start capturing video from the webcam\n",
    "cap = cv2.VideoCapture(0)\n",
    "\n",
    "last_detected_emotion = None\n",
    "\n",
    "while True:\n",
    "    # Capture frame-by-frame\n",
    "    ret, frame = cap.read()\n",
    "\n",
    "    if not ret:\n",
    "        break\n",
    "    \n",
    "    frame = cv2.flip(frame, 1)\n",
    "\n",
    "    # Perform emotion recognition\n",
    "    output_frame, detected_emotion = emotion_recog(frame, model)\n",
    "    \n",
    "    if detected_emotion is not None:\n",
    "        last_detected_emotion = detected_emotion\n",
    "\n",
    "    # Display the resulting frame\n",
    "    cv2.imshow('Emotion Recognition', output_frame)\n",
    "\n",
    "    # Break the loop on 'q' key press\n",
    "    if cv2.waitKey(1) & 0xFF == ord('q'):\n",
    "        break\n",
    "\n",
    "# When everything is done, release the capture\n",
    "cap.release()\n",
    "cv2.destroyAllWindows()\n",
    "\n",
    "# Save the last detected emotion to a variable\n",
    "if last_detected_emotion is not None:\n",
    "    detected_emotion_output = last_detected_emotion\n",
    "    print(f\"The detected emotion at the moment you pressed 'q' is: {last_detected_emotion}\")\n",
    "else:\n",
    "    detected_emotion_output = \"No emotion detected.\"\n",
    "    print(\"No emotion detected.\")"
   ]
  },
  {
   "cell_type": "code",
   "execution_count": null,
   "metadata": {},
   "outputs": [],
   "source": []
  }
 ],
 "metadata": {
  "kernelspec": {
   "display_name": "Python 3 (ipykernel)",
   "language": "python",
   "name": "python3"
  },
  "language_info": {
   "codemirror_mode": {
    "name": "ipython",
    "version": 3
   },
   "file_extension": ".py",
   "mimetype": "text/x-python",
   "name": "python",
   "nbconvert_exporter": "python",
   "pygments_lexer": "ipython3",
   "version": "3.11.4"
  }
 },
 "nbformat": 4,
 "nbformat_minor": 2
}
